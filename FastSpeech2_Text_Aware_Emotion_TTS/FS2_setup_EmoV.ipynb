{
  "cells": [
    {
      "cell_type": "code",
      "execution_count": null,
      "metadata": {
        "colab": {
          "base_uri": "https://localhost:8080/"
        },
        "id": "MRewDyiQ6tPa",
        "outputId": "7a16a989-a61b-46ef-ab59-3d45e37f950f"
      },
      "outputs": [
        {
          "output_type": "stream",
          "name": "stdout",
          "text": [
            "Thu Apr 13 11:27:51 2023       \n",
            "+-----------------------------------------------------------------------------+\n",
            "| NVIDIA-SMI 525.85.12    Driver Version: 525.85.12    CUDA Version: 12.0     |\n",
            "|-------------------------------+----------------------+----------------------+\n",
            "| GPU  Name        Persistence-M| Bus-Id        Disp.A | Volatile Uncorr. ECC |\n",
            "| Fan  Temp  Perf  Pwr:Usage/Cap|         Memory-Usage | GPU-Util  Compute M. |\n",
            "|                               |                      |               MIG M. |\n",
            "|===============================+======================+======================|\n",
            "|   0  Tesla T4            Off  | 00000000:00:04.0 Off |                    0 |\n",
            "| N/A   41C    P8    10W /  70W |      0MiB / 15360MiB |      0%      Default |\n",
            "|                               |                      |                  N/A |\n",
            "+-------------------------------+----------------------+----------------------+\n",
            "                                                                               \n",
            "+-----------------------------------------------------------------------------+\n",
            "| Processes:                                                                  |\n",
            "|  GPU   GI   CI        PID   Type   Process name                  GPU Memory |\n",
            "|        ID   ID                                                   Usage      |\n",
            "|=============================================================================|\n",
            "|  No running processes found                                                 |\n",
            "+-----------------------------------------------------------------------------+\n"
          ]
        }
      ],
      "source": [
        "!nvidia-smi"
      ]
    },
    {
      "cell_type": "code",
      "execution_count": null,
      "metadata": {
        "id": "rdz0C12d8KsD"
      },
      "outputs": [],
      "source": [
        "# !unzip /content/drive/MyDrive/FYP_Notebooks/fs2_emov.zip -d /\n",
        "!unzip /content/drive/MyDrive/FYP_Notebooks/Final_version/fs2_final.zip -d /"
      ]
    },
    {
      "cell_type": "code",
      "execution_count": null,
      "metadata": {
        "colab": {
          "base_uri": "https://localhost:8080/"
        },
        "id": "zpoXkD-g8YmC",
        "outputId": "83571316-7a1e-4090-a044-938219e72394"
      },
      "outputs": [
        {
          "output_type": "stream",
          "name": "stdout",
          "text": [
            "/content/FastSpeech2_Text_Aware_Emotion_TTS\n"
          ]
        }
      ],
      "source": [
        "%cd FastSpeech2_Text_Aware_Emotion_TTS/"
      ]
    },
    {
      "cell_type": "code",
      "source": [
        "# check python version ... if 3.9 then install 3.8 by running cell below\n",
        "!python3 --version"
      ],
      "metadata": {
        "id": "chunigWAJq8I",
        "colab": {
          "base_uri": "https://localhost:8080/"
        },
        "outputId": "74a30607-d243-4903-bc8f-acb2bbb35280"
      },
      "execution_count": null,
      "outputs": [
        {
          "output_type": "stream",
          "name": "stdout",
          "text": [
            "Python 3.9.16\n"
          ]
        }
      ]
    },
    {
      "cell_type": "code",
      "source": [
        "# install pip for new python \n",
        "!sudo apt-get install python3.8-distutils\n",
        "!wget https://bootstrap.pypa.io/get-pip.py\n",
        "!python get-pip.py\n",
        "!sudo update-alternatives --config python3"
      ],
      "metadata": {
        "id": "Gi_NbbxlJiyl"
      },
      "execution_count": null,
      "outputs": []
    },
    {
      "cell_type": "code",
      "source": [
        "!sudo apt install python3-pip"
      ],
      "metadata": {
        "id": "Y-l6f0MqJPB-"
      },
      "execution_count": null,
      "outputs": []
    },
    {
      "cell_type": "code",
      "execution_count": null,
      "metadata": {
        "id": "ZEcVUTCS8dvg"
      },
      "outputs": [],
      "source": [
        "!pip3 install -r requirements.txt\n",
        "!pip uninstall ipykernel # this may or may not be installed.\n",
        "!pip install ipykernel"
      ]
    },
    {
      "cell_type": "code",
      "execution_count": null,
      "metadata": {
        "id": "BCH1sGN0XZ19"
      },
      "outputs": [],
      "source": [
        "!cp /content/drive/MyDrive/FYP_Notebooks/checkpoints_EmoV/900000.pth.tar -d /content/FastSpeech2_Text_Aware_Emotion_TTS/output/ckpt/EmoV_DB"
      ]
    },
    {
      "cell_type": "code",
      "execution_count": null,
      "metadata": {
        "id": "awWFTUQXskze"
      },
      "outputs": [],
      "source": [
        "%rm -r /content/FastSpeech2_Text_Aware_Emotion_TTS/output/log/EmoV_DB/train\n",
        "%rm -r /content/FastSpeech2_Text_Aware_Emotion_TTS/output/log/EmoV_DB/val"
      ]
    },
    {
      "cell_type": "code",
      "execution_count": null,
      "metadata": {
        "id": "PRb2pdkTpuig"
      },
      "outputs": [],
      "source": [
        "!cp /content/drive/MyDrive/FYP_Notebooks/checkpoints_EmoV/logs/train -r /content/FastSpeech2_Text_Aware_Emotion_TTS/output/log/EmoV_DB/\n",
        "!cp /content/drive/MyDrive/FYP_Notebooks/checkpoints_EmoV/logs/val -r /content/FastSpeech2_Text_Aware_Emotion_TTS/output/log/EmoV_DB/"
      ]
    },
    {
      "cell_type": "code",
      "source": [
        "# copy pre trained roberta model from drive\n",
        "!cp -r /content/drive/MyDrive/FYP_Notebooks/robert_emotion_fyp /content/FastSpeech2_Text_Aware_Emotion_TTS/"
      ],
      "metadata": {
        "id": "j7P-DGujM-yu"
      },
      "execution_count": null,
      "outputs": []
    },
    {
      "cell_type": "code",
      "source": [
        "!pip install transformers"
      ],
      "metadata": {
        "id": "V75b-NfHr8CU"
      },
      "execution_count": null,
      "outputs": []
    },
    {
      "cell_type": "code",
      "execution_count": null,
      "metadata": {
        "colab": {
          "base_uri": "https://localhost:8080/"
        },
        "id": "RXS3_cucj5hO",
        "outputId": "958d1653-053a-4078-937c-419ff24a73e2"
      },
      "outputs": [
        {
          "output_type": "stream",
          "name": "stdout",
          "text": [
            "Removing weight norm...\n",
            "Predicted emotion: amused\n",
            "Raw Text Sequence: That is addorable, hahaha\n",
            "Phoneme Sequence: {DH AE1 T IH0 Z AE1 D ER0 AH0 B AH0 L sp HH AH0 HH AA1 HH AH0}\n"
          ]
        }
      ],
      "source": [
        "# set multi_emotion to False in model.yaml for synthesizing using bert emotions\n",
        "!python3 synthesize.py --text \"That is addorable, hahaha\" --bert_embed 1 --speaker_id 3  --restore_step 900000 --mode single -p config/EmoV_DB/preprocess.yaml -m config/EmoV_DB/model.yaml -t config/EmoV_DB/train.yaml"
      ]
    },
    {
      "cell_type": "code",
      "source": [],
      "metadata": {
        "id": "8M1ZIUue1Fxs"
      },
      "execution_count": null,
      "outputs": []
    },
    {
      "cell_type": "code",
      "execution_count": null,
      "metadata": {
        "id": "ICLSxkod_aUo"
      },
      "outputs": [],
      "source": [
        "!python3 prepare_align.py config/EmoV_DB/preprocess.yaml"
      ]
    },
    {
      "cell_type": "code",
      "execution_count": null,
      "metadata": {
        "colab": {
          "base_uri": "https://localhost:8080/"
        },
        "id": "I541KSbbCz9F",
        "outputId": "1ea1b985-f153-4f39-b773-850936cd93bb"
      },
      "outputs": [
        {
          "output_type": "stream",
          "name": "stdout",
          "text": [
            "rm: cannot remove 'raw_data/EmoV_DB/.DS_Store': No such file or directory\n"
          ]
        }
      ],
      "source": [
        "%rm raw_data/EmoV_DB/.DS_Store"
      ]
    },
    {
      "cell_type": "code",
      "execution_count": null,
      "metadata": {
        "id": "oetiygcY8lKg"
      },
      "outputs": [],
      "source": [
        "# clear results\n",
        "%rm /content/FastSpeech2_Text_Aware_Emotion_TTS/output/result/EmoV_DB/*"
      ]
    },
    {
      "cell_type": "code",
      "source": [
        "%rm -r preprocessor/ljspeech.py"
      ],
      "metadata": {
        "id": "CKc4yYY8rzYN"
      },
      "execution_count": null,
      "outputs": []
    },
    {
      "cell_type": "code",
      "execution_count": null,
      "metadata": {
        "colab": {
          "base_uri": "https://localhost:8080/"
        },
        "id": "VLmIr_2o_gcB",
        "outputId": "316a1e76-b925-473a-98d5-e6938ac99fe0"
      },
      "outputs": [
        {
          "name": "stdout",
          "output_type": "stream",
          "text": [
            "Processing Data ...\n",
            "100% 4/4 [26:19<00:00, 394.99s/it]\n",
            "Computing statistic quantities ...\n",
            "Total time: 6.091529352481734 hours\n"
          ]
        }
      ],
      "source": [
        "!python3 preprocess.py config/EmoV_DB/preprocess.yaml"
      ]
    },
    {
      "cell_type": "code",
      "execution_count": null,
      "metadata": {
        "id": "xtn6WerzctT_"
      },
      "outputs": [],
      "source": [
        "# start tensorboard\n",
        "import tensorflow as tf\n",
        "import datetime, os\n",
        "%load_ext tensorboard\n",
        "%tensorboard --logdir output/log/EmoV_DB"
      ]
    },
    {
      "cell_type": "code",
      "source": [
        "# !pip3 install torch==1.9.0+cu111 torchvision==0.10.0+cu111 torchaudio==0.9.0 -f https://download.pytorch.org/whl/torch_stable.html"
      ],
      "metadata": {
        "id": "2ihb9PHNs82f"
      },
      "execution_count": null,
      "outputs": []
    },
    {
      "cell_type": "code",
      "source": [
        "# pip install 'protobuf>=3.0.0,<3.21.0'"
      ],
      "metadata": {
        "id": "A17-MdhWvNe4"
      },
      "execution_count": null,
      "outputs": []
    },
    {
      "cell_type": "code",
      "execution_count": null,
      "metadata": {
        "id": "btCcG0YAJnym",
        "colab": {
          "base_uri": "https://localhost:8080/"
        },
        "outputId": "1de157c5-3c6a-42d3-a009-923a2b8e29eb"
      },
      "outputs": [
        {
          "output_type": "stream",
          "name": "stdout",
          "text": [
            "Prepare training ...\n",
            "Number of FastSpeech2 Parameters: 35227457\n",
            "Removing weight norm...\n",
            "Training:   0% 0/900000 [00:00<?, ?it/s]\n",
            "Training: 900002it [00:01, 795388.83it/s]\n",
            "Epoch 1:   1% 1/100 [00:02<03:23,  2.06s/it]\u001b[A\n",
            "Epoch 1:   2% 2/100 [00:03<03:15,  1.99s/it]\u001b[A\n",
            "Epoch 1:   3% 3/100 [00:05<03:06,  1.93s/it]\u001b[A\n",
            "Epoch 1:   4% 4/100 [00:07<03:06,  1.94s/it]\u001b[A\n",
            "Epoch 1:   5% 5/100 [00:09<03:01,  1.91s/it]\u001b[A\n",
            "Epoch 1:   6% 6/100 [00:11<02:59,  1.91s/it]\u001b[A\n",
            "Epoch 1:   7% 7/100 [00:13<02:57,  1.91s/it]\u001b[ATraceback (most recent call last):\n",
            "  File \"train.py\", line 198, in <module>\n",
            "    main(args, configs)\n",
            "  File \"train.py\", line 90, in main\n",
            "    total_loss.backward()\n",
            "  File \"/usr/local/lib/python3.8/dist-packages/torch/_tensor.py\", line 255, in backward\n",
            "    torch.autograd.backward(self, gradient, retain_graph, create_graph, inputs=inputs)\n",
            "  File \"/usr/local/lib/python3.8/dist-packages/torch/autograd/__init__.py\", line 147, in backward\n",
            "    Variable._execution_engine.run_backward(\n",
            "KeyboardInterrupt\n",
            "Training: 900031it [00:14, 60342.09it/s] \n",
            "Epoch 1:   7% 7/100 [00:14<03:18,  2.13s/it]\n",
            "^C\n"
          ]
        }
      ],
      "source": [
        "# REMEMBER TO CHANGE THE CHECKPOINT SAVING STEP NUMBER TO 10000 IN config/EmoV_DB/train.yaml and replace the train.py\n",
        "\n",
        "!python3 train.py --restore_step 900000 -p config/EmoV_DB/preprocess.yaml -m config/EmoV_DB/model.yaml -t config/EmoV_DB/train.yaml"
      ]
    },
    {
      "cell_type": "code",
      "execution_count": null,
      "metadata": {
        "id": "VffIJwS6c1fF"
      },
      "outputs": [],
      "source": [
        "!zip -r /content/fs2_final.zip /content/FastSpeech2_Text_Aware_Emotion_TTS/"
      ]
    },
    {
      "cell_type": "code",
      "execution_count": null,
      "metadata": {
        "id": "zqX1kv9bI3G4"
      },
      "outputs": [],
      "source": [
        "cp -r /content/fs2_final.zip /content/drive/MyDrive/FYP_Notebooks/Final_version/"
      ]
    },
    {
      "cell_type": "code",
      "execution_count": null,
      "metadata": {
        "id": "1Yqxr3mvFRS_"
      },
      "outputs": [],
      "source": [
        "from google.colab import runtime\n",
        "runtime.unassign()"
      ]
    }
  ],
  "metadata": {
    "accelerator": "GPU",
    "colab": {
      "provenance": []
    },
    "gpuClass": "standard",
    "kernelspec": {
      "display_name": "Python 3",
      "name": "python3"
    },
    "language_info": {
      "name": "python"
    }
  },
  "nbformat": 4,
  "nbformat_minor": 0
}